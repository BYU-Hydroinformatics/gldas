{
 "cells": [
  {
   "cell_type": "code",
   "execution_count": null,
   "metadata": {
    "pycharm": {
     "name": "#%%\n"
    }
   },
   "outputs": [],
   "source": [
    "import requests\n",
    "import json\n",
    "import pprint\n",
    "tethysurl = 'https://tethys.byu.edu'\n",
    "header = {'Authorization': 'Token [YourUserTokenGoesHere]'}"
   ]
  },
  {
   "cell_type": "code",
   "execution_count": null,
   "metadata": {
    "pycharm": {
     "name": "#%%\n"
    }
   },
   "outputs": [],
   "source": [
    "helpme = requests.get(tethysurl + '/apps/gldas/api/help', headers=header)\n",
    "pprint.pprint(json.loads(helpme.text))"
   ]
  },
  {
   "cell_type": "code",
   "execution_count": null,
   "metadata": {
    "pycharm": {
     "name": "#%%\n"
    }
   },
   "outputs": [],
   "source": [
    "# Example parameters for the timeseries API\n",
    "point_parameters = {\n",
    "    'time': '2010s',\n",
    "    'variable': 'Tair_f_inst',\n",
    "    'location': [-110, 45],\n",
    "}\n",
    "polygon_parameters = {\n",
    "    'time': '2000s',\n",
    "    'variable': 'Tair_f_inst',\n",
    "    'location': [-115, -105, 40, 50],\n",
    "}\n",
    "country_parameters = {\n",
    "    'time': '1990s',\n",
    "    'variable': 'Tair_f_inst',\n",
    "    'location': 'Italy',\n",
    "}"
   ]
  },
  {
   "cell_type": "code",
   "execution_count": null,
   "metadata": {
    "pycharm": {
     "name": "#%%\n"
    }
   },
   "outputs": [],
   "source": [
    "timeseries_point = requests.get(tethysurl + '/apps/gldas/api/timeseries', headers=header, params=point_parameters)\n",
    "print(timeseries_point.text)"
   ]
  },
  {
   "cell_type": "code",
   "execution_count": null,
   "metadata": {
    "pycharm": {
     "name": "#%%\n"
    }
   },
   "outputs": [],
   "source": [
    "timeseries_polygon = requests.get(tethysurl + '/apps/gldas/api/timeseries', headers=header, params=polygon_parameters)\n",
    "print(timeseries_polygon.text)"
   ]
  },
  {
   "cell_type": "code",
   "execution_count": null,
   "metadata": {
    "pycharm": {
     "name": "#%%\n"
    }
   },
   "outputs": [],
   "source": [
    "timeseries_country = requests.get(tethysurl + '/apps/gldas/api/timeseries', headers=header, params=country_parameters)\n",
    "print(timeseries_country.text)"
   ]
  }
 ],
 "metadata": {
  "kernelspec": {
   "display_name": "Python 3",
   "language": "python",
   "name": "python3"
  },
  "language_info": {
   "codemirror_mode": {
    "name": "ipython",
    "version": 3
   },
   "file_extension": ".py",
   "mimetype": "text/x-python",
   "name": "python",
   "nbconvert_exporter": "python",
   "pygments_lexer": "ipython3",
   "version": "3.6.7"
  },
  "pycharm": {
   "stem_cell": {
    "cell_type": "raw",
    "source": [],
    "metadata": {
     "collapsed": false
    }
   }
  }
 },
 "nbformat": 4,
 "nbformat_minor": 1
}