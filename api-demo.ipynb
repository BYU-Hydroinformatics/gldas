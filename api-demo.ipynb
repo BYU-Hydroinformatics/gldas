{
 "cells": [
  {
   "cell_type": "code",
   "execution_count": null,
   "outputs": [],
   "source": [
    "import requests\n",
    "import json\n",
    "import pprint\n",
    "tethysurl = 'https://tethys.byu.edu'"
   ],
   "metadata": {
    "collapsed": false,
    "pycharm": {
     "name": "#%%\n"
    }
   }
  },
  {
   "cell_type": "code",
   "execution_count": null,
   "outputs": [],
   "source": [
    "helpme = requests.get(tethysurl + '/apps/gldas/api/help')\n",
    "pprint.pprint(json.loads(helpme.text))"
   ],
   "metadata": {
    "collapsed": false,
    "pycharm": {
     "name": "#%%\n"
    }
   }
  },
  {
   "cell_type": "code",
   "execution_count": null,
   "outputs": [],
   "source": [
    "# Example parameters for the timeseries API\n",
    "point_parameters = {\n",
    "    'time': '2010s',\n",
    "    'variable': 'Tair_f_inst',\n",
    "    'loc_type': 'Point',\n",
    "    'coords': [-45, 45],\n",
    "}\n",
    "polygon_parameters = {\n",
    "    'time': '2000s',\n",
    "    'variable': 'Tair_f_inst',\n",
    "    'loc_type': 'Polygon',\n",
    "    'coords': [-115, -105, 40, 50],\n",
    "}\n",
    "vectorgeometry_parameters = {\n",
    "    'time': '1990s',\n",
    "    'variable': 'Tair_f_inst',\n",
    "    'loc_type': 'VectorGeometry',\n",
    "    'region': 'Italy',\n",
    "}"
   ],
   "metadata": {
    "collapsed": false,
    "pycharm": {
     "name": "#%%\n"
    }
   }
  },
  {
   "cell_type": "code",
   "execution_count": null,
   "outputs": [],
   "source": [
    "timeseries_polygon = requests.get(tethysurl + '/apps/gldas/api/timeseries', params=polygon_parameters)\n",
    "print(timeseries_polygon.text)"
   ],
   "metadata": {
    "collapsed": false,
    "pycharm": {
     "name": "#%%\n"
    }
   }
  },
  {
   "cell_type": "code",
   "execution_count": null,
   "outputs": [],
   "source": [
    "timeseries_point = requests.get(tethysurl + '/apps/gldas/api/timeseries', params=polygon_parameters)\n",
    "print(timeseries_point.text)"
   ],
   "metadata": {
    "collapsed": false,
    "pycharm": {
     "name": "#%%\n"
    }
   }
  },
  {
   "cell_type": "code",
   "execution_count": null,
   "outputs": [],
   "source": [
    "timeseries_vector = requests.get(tethysurl + '/apps/gldas/api/timeseries', params=vectorgeometry_parameters)\n",
    "print(timeseries_vector.text)"
   ],
   "metadata": {
    "collapsed": false,
    "pycharm": {
     "name": "#%%\n"
    }
   }
  }
 ],
 "metadata": {
  "kernelspec": {
   "display_name": "Python 3",
   "language": "python",
   "name": "python3"
  },
  "language_info": {
   "codemirror_mode": {
    "name": "ipython",
    "version": 3
   },
   "file_extension": ".py",
   "mimetype": "text/x-python",
   "name": "python",
   "nbconvert_exporter": "python",
   "pygments_lexer": "ipython3",
   "version": "3.6.7"
  },
  "pycharm": {
   "stem_cell": {
    "cell_type": "raw",
    "source": [],
    "metadata": {
     "collapsed": false
    }
   }
  }
 },
 "nbformat": 4,
 "nbformat_minor": 1
}