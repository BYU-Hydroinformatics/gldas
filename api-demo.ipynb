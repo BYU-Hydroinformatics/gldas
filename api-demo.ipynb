{
 "cells": [
  {
   "cell_type": "code",
   "execution_count": 1,
   "metadata": {
    "pycharm": {
     "name": "#%%\n"
    }
   },
   "outputs": [],
   "source": [
    "import requests\n",
    "import json\n",
    "import pprint\n",
    "# tethysurl = 'https://tethys.byu.edu'\n",
    "tethysurl = 'http://127.0.0.1:8000'"
   ]
  },
  {
   "cell_type": "code",
   "execution_count": null,
   "metadata": {
    "pycharm": {
     "name": "#%%\n"
    }
   },
   "outputs": [],
   "source": [
    "helpme = requests.get(tethysurl + '/apps/gldas/api/help')\n",
    "pprint.pprint(json.loads(helpme.text))"
   ]
  },
  {
   "cell_type": "code",
   "execution_count": 9,
   "metadata": {
    "pycharm": {
     "name": "#%%\n"
    }
   },
   "outputs": [],
   "source": [
    "# Example parameters for the timeseries API\n",
    "point_parameters = {\n",
    "    'time': '2010s',\n",
    "    'variable': 'Tair_f_inst',\n",
    "    'location': [-110, 45],\n",
    "}\n",
    "polygon_parameters = {\n",
    "    'time': '2000s',\n",
    "    'variable': 'Tair_f_inst',\n",
    "    'location': [-115, -105, 40, 50],\n",
    "}\n",
    "country_parameters = {\n",
    "    'time': '1990s',\n",
    "    'variable': 'Tair_f_inst',\n",
    "    'location': 'Italy',\n",
    "}"
   ]
  },
  {
   "cell_type": "code",
   "execution_count": 13,
   "metadata": {
    "pycharm": {
     "name": "#%%\n"
    }
   },
   "outputs": [
    {
     "name": "stdout",
     "output_type": "stream",
     "text": [
      "{\"Error\": \"Invalid list of coordinates for a Point location.\"}\n"
     ]
    }
   ],
   "source": [
    "timeseries_point = requests.get(tethysurl + '/apps/gldas/api/timeseries', params=point_parameters)\n",
    "print(timeseries_point.text)"
   ]
  },
  {
   "cell_type": "code",
   "execution_count": null,
   "metadata": {
    "pycharm": {
     "name": "#%%\n"
    }
   },
   "outputs": [],
   "source": [
    "timeseries_polygon = requests.get(tethysurl + '/apps/gldas/api/timeseries', params=polygon_parameters)\n",
    "print(timeseries_polygon.text)"
   ]
  },
  {
   "cell_type": "code",
   "execution_count": null,
   "metadata": {
    "pycharm": {
     "name": "#%%\n"
    }
   },
   "outputs": [],
   "source": [
    "timeseries_country = requests.get(tethysurl + '/apps/gldas/api/timeseries', params=country_parameters)\n",
    "print(timeseries_country.text)"
   ]
  },
  {
   "cell_type": "code",
   "execution_count": null,
   "metadata": {},
   "outputs": [],
   "source": []
  },
  {
   "cell_type": "code",
   "execution_count": null,
   "metadata": {},
   "outputs": [],
   "source": []
  }
 ],
 "metadata": {
  "kernelspec": {
   "display_name": "Python 3",
   "language": "python",
   "name": "python3"
  },
  "language_info": {
   "codemirror_mode": {
    "name": "ipython",
    "version": 3
   },
   "file_extension": ".py",
   "mimetype": "text/x-python",
   "name": "python",
   "nbconvert_exporter": "python",
   "pygments_lexer": "ipython3",
   "version": "3.6.7"
  },
  "pycharm": {
   "stem_cell": {
    "cell_type": "raw",
    "metadata": {
     "collapsed": false
    },
    "source": []
   }
  }
 },
 "nbformat": 4,
 "nbformat_minor": 1
}
